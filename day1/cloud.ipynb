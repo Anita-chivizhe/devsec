{
 "cells": [
  {
   "cell_type": "markdown",
   "id": "bba81fd8",
   "metadata": {},
   "source": [
    "Cloud"
   ]
  },
  {
   "cell_type": "markdown",
   "id": "7c00cf5c",
   "metadata": {},
   "source": []
  },
  {
   "cell_type": "markdown",
   "id": "d72686c1",
   "metadata": {},
   "source": [
    "VPC\n",
    "Virtual Private Cloud\n",
    "\n",
    "- helps with control and access\n",
    "\n",
    "Internet gateway\n",
    "- serves as an entry and exist"
   ]
  }
 ],
 "metadata": {
  "language_info": {
   "name": "python"
  }
 },
 "nbformat": 4,
 "nbformat_minor": 5
}
